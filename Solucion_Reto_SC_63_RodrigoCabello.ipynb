{
  "cells": [
    {
      "cell_type": "markdown",
      "metadata": {
        "id": "view-in-github",
        "colab_type": "text"
      },
      "source": [
        "<a href=\"https://colab.research.google.com/github/RodAnC2210/first_stepsDS/blob/main/Solucion_Reto_SC_63_RodrigoCabello.ipynb\" target=\"_parent\"><img src=\"https://colab.research.google.com/assets/colab-badge.svg\" alt=\"Open In Colab\"/></a>"
      ]
    },
    {
      "metadata": {
        "id": "bf6528f92eeaf5b1"
      },
      "cell_type": "markdown",
      "source": [
        "# Reto | Mercadotecnia telefónica con aprendizaje supervisado"
      ],
      "id": "bf6528f92eeaf5b1"
    },
    {
      "metadata": {
        "id": "443a0748764acec7"
      },
      "cell_type": "markdown",
      "source": [
        "1.\tDeberás utilizar el archivo llamado bank_marketing.csv. con los datos de problema.\n",
        "2.\tUtilizar el archivo bank-names.txt para obtener información de cada una de las variables.\n",
        "3.\tCrear un proyecto tipo Jupyter Notebook en Google-Colab llamado Solucion_Reto_SC_63_<nombre_y_apellido_del_estudiante>.ipynb.\n",
        "4.\tIncluye las librerías que consideres adecuadas y carga los datos del archivo en una variable llamada “data”.\n"
      ],
      "id": "443a0748764acec7"
    },
    {
      "metadata": {
        "id": "3e4fe6c5ef1c9d7c"
      },
      "cell_type": "markdown",
      "source": [
        "5.\tObtener la información de dicha base de datos que incluya el número de registros, el total de variables, el tipo de cada variable, la cantidad de datos perdidos de cada variable en caso de que existan."
      ],
      "id": "3e4fe6c5ef1c9d7c"
    },
    {
      "metadata": {
        "ExecuteTime": {
          "end_time": "2025-07-16T20:44:35.082155Z",
          "start_time": "2025-07-16T20:44:35.018673Z"
        },
        "colab": {
          "base_uri": "https://localhost:8080/"
        },
        "id": "8f699a1b50b8ab3b",
        "outputId": "5ee98da0-e32d-407c-d7b2-a286155f3bc8"
      },
      "cell_type": "code",
      "source": [
        "import pandas as pd\n",
        "\n",
        "bank_marketing = pd.read_csv('/content/bank_marketing_RETO_DS_AS.csv')\n",
        "bank_marketing.info()"
      ],
      "id": "8f699a1b50b8ab3b",
      "outputs": [
        {
          "output_type": "stream",
          "name": "stdout",
          "text": [
            "<class 'pandas.core.frame.DataFrame'>\n",
            "RangeIndex: 9000 entries, 0 to 8999\n",
            "Data columns (total 17 columns):\n",
            " #   Column     Non-Null Count  Dtype \n",
            "---  ------     --------------  ----- \n",
            " 0   age        9000 non-null   int64 \n",
            " 1   job        9000 non-null   object\n",
            " 2   marital    9000 non-null   object\n",
            " 3   education  9000 non-null   object\n",
            " 4   default    9000 non-null   object\n",
            " 5   balance    9000 non-null   int64 \n",
            " 6   housing    9000 non-null   object\n",
            " 7   loan       9000 non-null   object\n",
            " 8   contact    9000 non-null   object\n",
            " 9   day        9000 non-null   int64 \n",
            " 10  month      9000 non-null   object\n",
            " 11  duration   9000 non-null   int64 \n",
            " 12  campaign   9000 non-null   int64 \n",
            " 13  pdays      9000 non-null   int64 \n",
            " 14  previous   9000 non-null   int64 \n",
            " 15  poutcome   9000 non-null   object\n",
            " 16  y          9000 non-null   object\n",
            "dtypes: int64(7), object(10)\n",
            "memory usage: 1.2+ MB\n"
          ]
        }
      ],
      "execution_count": 1
    },
    {
      "metadata": {
        "ExecuteTime": {
          "end_time": "2025-07-16T20:44:35.111046Z",
          "start_time": "2025-07-16T20:44:35.091859Z"
        },
        "colab": {
          "base_uri": "https://localhost:8080/",
          "height": 313
        },
        "id": "b949840428462f33",
        "outputId": "537495c3-7a3c-4166-a6ea-bad9a023fbeb"
      },
      "cell_type": "code",
      "source": [
        "bank_marketing.describe()"
      ],
      "id": "b949840428462f33",
      "outputs": [
        {
          "output_type": "execute_result",
          "data": {
            "text/plain": [
              "               age       balance          day     duration     campaign  \\\n",
              "count  9000.000000   9000.000000  9000.000000  9000.000000  9000.000000   \n",
              "mean     41.090556   1482.262778    15.619556   353.832778     2.520111   \n",
              "std      11.664253   3031.013197     8.345305   336.945158     2.737758   \n",
              "min      18.000000  -3058.000000     1.000000     3.000000     1.000000   \n",
              "25%      32.000000    109.000000     8.000000   131.000000     1.000000   \n",
              "50%      39.000000    519.000000    15.000000   240.500000     2.000000   \n",
              "75%      49.000000   1646.500000    21.000000   462.000000     3.000000   \n",
              "max      95.000000  81204.000000    31.000000  3253.000000    58.000000   \n",
              "\n",
              "             pdays     previous  \n",
              "count  9000.000000  9000.000000  \n",
              "mean     50.511333     0.788889  \n",
              "std     107.691963     2.210273  \n",
              "min      -1.000000     0.000000  \n",
              "25%      -1.000000     0.000000  \n",
              "50%      -1.000000     0.000000  \n",
              "75%      -1.000000     0.000000  \n",
              "max     850.000000    58.000000  "
            ],
            "text/html": [
              "\n",
              "  <div id=\"df-9172e651-bb94-49ed-8e7d-5c3e309fcbef\" class=\"colab-df-container\">\n",
              "    <div>\n",
              "<style scoped>\n",
              "    .dataframe tbody tr th:only-of-type {\n",
              "        vertical-align: middle;\n",
              "    }\n",
              "\n",
              "    .dataframe tbody tr th {\n",
              "        vertical-align: top;\n",
              "    }\n",
              "\n",
              "    .dataframe thead th {\n",
              "        text-align: right;\n",
              "    }\n",
              "</style>\n",
              "<table border=\"1\" class=\"dataframe\">\n",
              "  <thead>\n",
              "    <tr style=\"text-align: right;\">\n",
              "      <th></th>\n",
              "      <th>age</th>\n",
              "      <th>balance</th>\n",
              "      <th>day</th>\n",
              "      <th>duration</th>\n",
              "      <th>campaign</th>\n",
              "      <th>pdays</th>\n",
              "      <th>previous</th>\n",
              "    </tr>\n",
              "  </thead>\n",
              "  <tbody>\n",
              "    <tr>\n",
              "      <th>count</th>\n",
              "      <td>9000.000000</td>\n",
              "      <td>9000.000000</td>\n",
              "      <td>9000.000000</td>\n",
              "      <td>9000.000000</td>\n",
              "      <td>9000.000000</td>\n",
              "      <td>9000.000000</td>\n",
              "      <td>9000.000000</td>\n",
              "    </tr>\n",
              "    <tr>\n",
              "      <th>mean</th>\n",
              "      <td>41.090556</td>\n",
              "      <td>1482.262778</td>\n",
              "      <td>15.619556</td>\n",
              "      <td>353.832778</td>\n",
              "      <td>2.520111</td>\n",
              "      <td>50.511333</td>\n",
              "      <td>0.788889</td>\n",
              "    </tr>\n",
              "    <tr>\n",
              "      <th>std</th>\n",
              "      <td>11.664253</td>\n",
              "      <td>3031.013197</td>\n",
              "      <td>8.345305</td>\n",
              "      <td>336.945158</td>\n",
              "      <td>2.737758</td>\n",
              "      <td>107.691963</td>\n",
              "      <td>2.210273</td>\n",
              "    </tr>\n",
              "    <tr>\n",
              "      <th>min</th>\n",
              "      <td>18.000000</td>\n",
              "      <td>-3058.000000</td>\n",
              "      <td>1.000000</td>\n",
              "      <td>3.000000</td>\n",
              "      <td>1.000000</td>\n",
              "      <td>-1.000000</td>\n",
              "      <td>0.000000</td>\n",
              "    </tr>\n",
              "    <tr>\n",
              "      <th>25%</th>\n",
              "      <td>32.000000</td>\n",
              "      <td>109.000000</td>\n",
              "      <td>8.000000</td>\n",
              "      <td>131.000000</td>\n",
              "      <td>1.000000</td>\n",
              "      <td>-1.000000</td>\n",
              "      <td>0.000000</td>\n",
              "    </tr>\n",
              "    <tr>\n",
              "      <th>50%</th>\n",
              "      <td>39.000000</td>\n",
              "      <td>519.000000</td>\n",
              "      <td>15.000000</td>\n",
              "      <td>240.500000</td>\n",
              "      <td>2.000000</td>\n",
              "      <td>-1.000000</td>\n",
              "      <td>0.000000</td>\n",
              "    </tr>\n",
              "    <tr>\n",
              "      <th>75%</th>\n",
              "      <td>49.000000</td>\n",
              "      <td>1646.500000</td>\n",
              "      <td>21.000000</td>\n",
              "      <td>462.000000</td>\n",
              "      <td>3.000000</td>\n",
              "      <td>-1.000000</td>\n",
              "      <td>0.000000</td>\n",
              "    </tr>\n",
              "    <tr>\n",
              "      <th>max</th>\n",
              "      <td>95.000000</td>\n",
              "      <td>81204.000000</td>\n",
              "      <td>31.000000</td>\n",
              "      <td>3253.000000</td>\n",
              "      <td>58.000000</td>\n",
              "      <td>850.000000</td>\n",
              "      <td>58.000000</td>\n",
              "    </tr>\n",
              "  </tbody>\n",
              "</table>\n",
              "</div>\n",
              "    <div class=\"colab-df-buttons\">\n",
              "\n",
              "  <div class=\"colab-df-container\">\n",
              "    <button class=\"colab-df-convert\" onclick=\"convertToInteractive('df-9172e651-bb94-49ed-8e7d-5c3e309fcbef')\"\n",
              "            title=\"Convert this dataframe to an interactive table.\"\n",
              "            style=\"display:none;\">\n",
              "\n",
              "  <svg xmlns=\"http://www.w3.org/2000/svg\" height=\"24px\" viewBox=\"0 -960 960 960\">\n",
              "    <path d=\"M120-120v-720h720v720H120Zm60-500h600v-160H180v160Zm220 220h160v-160H400v160Zm0 220h160v-160H400v160ZM180-400h160v-160H180v160Zm440 0h160v-160H620v160ZM180-180h160v-160H180v160Zm440 0h160v-160H620v160Z\"/>\n",
              "  </svg>\n",
              "    </button>\n",
              "\n",
              "  <style>\n",
              "    .colab-df-container {\n",
              "      display:flex;\n",
              "      gap: 12px;\n",
              "    }\n",
              "\n",
              "    .colab-df-convert {\n",
              "      background-color: #E8F0FE;\n",
              "      border: none;\n",
              "      border-radius: 50%;\n",
              "      cursor: pointer;\n",
              "      display: none;\n",
              "      fill: #1967D2;\n",
              "      height: 32px;\n",
              "      padding: 0 0 0 0;\n",
              "      width: 32px;\n",
              "    }\n",
              "\n",
              "    .colab-df-convert:hover {\n",
              "      background-color: #E2EBFA;\n",
              "      box-shadow: 0px 1px 2px rgba(60, 64, 67, 0.3), 0px 1px 3px 1px rgba(60, 64, 67, 0.15);\n",
              "      fill: #174EA6;\n",
              "    }\n",
              "\n",
              "    .colab-df-buttons div {\n",
              "      margin-bottom: 4px;\n",
              "    }\n",
              "\n",
              "    [theme=dark] .colab-df-convert {\n",
              "      background-color: #3B4455;\n",
              "      fill: #D2E3FC;\n",
              "    }\n",
              "\n",
              "    [theme=dark] .colab-df-convert:hover {\n",
              "      background-color: #434B5C;\n",
              "      box-shadow: 0px 1px 3px 1px rgba(0, 0, 0, 0.15);\n",
              "      filter: drop-shadow(0px 1px 2px rgba(0, 0, 0, 0.3));\n",
              "      fill: #FFFFFF;\n",
              "    }\n",
              "  </style>\n",
              "\n",
              "    <script>\n",
              "      const buttonEl =\n",
              "        document.querySelector('#df-9172e651-bb94-49ed-8e7d-5c3e309fcbef button.colab-df-convert');\n",
              "      buttonEl.style.display =\n",
              "        google.colab.kernel.accessAllowed ? 'block' : 'none';\n",
              "\n",
              "      async function convertToInteractive(key) {\n",
              "        const element = document.querySelector('#df-9172e651-bb94-49ed-8e7d-5c3e309fcbef');\n",
              "        const dataTable =\n",
              "          await google.colab.kernel.invokeFunction('convertToInteractive',\n",
              "                                                    [key], {});\n",
              "        if (!dataTable) return;\n",
              "\n",
              "        const docLinkHtml = 'Like what you see? Visit the ' +\n",
              "          '<a target=\"_blank\" href=https://colab.research.google.com/notebooks/data_table.ipynb>data table notebook</a>'\n",
              "          + ' to learn more about interactive tables.';\n",
              "        element.innerHTML = '';\n",
              "        dataTable['output_type'] = 'display_data';\n",
              "        await google.colab.output.renderOutput(dataTable, element);\n",
              "        const docLink = document.createElement('div');\n",
              "        docLink.innerHTML = docLinkHtml;\n",
              "        element.appendChild(docLink);\n",
              "      }\n",
              "    </script>\n",
              "  </div>\n",
              "\n",
              "\n",
              "    <div id=\"df-aa564db6-616f-45c2-a783-490e3d93f11f\">\n",
              "      <button class=\"colab-df-quickchart\" onclick=\"quickchart('df-aa564db6-616f-45c2-a783-490e3d93f11f')\"\n",
              "                title=\"Suggest charts\"\n",
              "                style=\"display:none;\">\n",
              "\n",
              "<svg xmlns=\"http://www.w3.org/2000/svg\" height=\"24px\"viewBox=\"0 0 24 24\"\n",
              "     width=\"24px\">\n",
              "    <g>\n",
              "        <path d=\"M19 3H5c-1.1 0-2 .9-2 2v14c0 1.1.9 2 2 2h14c1.1 0 2-.9 2-2V5c0-1.1-.9-2-2-2zM9 17H7v-7h2v7zm4 0h-2V7h2v10zm4 0h-2v-4h2v4z\"/>\n",
              "    </g>\n",
              "</svg>\n",
              "      </button>\n",
              "\n",
              "<style>\n",
              "  .colab-df-quickchart {\n",
              "      --bg-color: #E8F0FE;\n",
              "      --fill-color: #1967D2;\n",
              "      --hover-bg-color: #E2EBFA;\n",
              "      --hover-fill-color: #174EA6;\n",
              "      --disabled-fill-color: #AAA;\n",
              "      --disabled-bg-color: #DDD;\n",
              "  }\n",
              "\n",
              "  [theme=dark] .colab-df-quickchart {\n",
              "      --bg-color: #3B4455;\n",
              "      --fill-color: #D2E3FC;\n",
              "      --hover-bg-color: #434B5C;\n",
              "      --hover-fill-color: #FFFFFF;\n",
              "      --disabled-bg-color: #3B4455;\n",
              "      --disabled-fill-color: #666;\n",
              "  }\n",
              "\n",
              "  .colab-df-quickchart {\n",
              "    background-color: var(--bg-color);\n",
              "    border: none;\n",
              "    border-radius: 50%;\n",
              "    cursor: pointer;\n",
              "    display: none;\n",
              "    fill: var(--fill-color);\n",
              "    height: 32px;\n",
              "    padding: 0;\n",
              "    width: 32px;\n",
              "  }\n",
              "\n",
              "  .colab-df-quickchart:hover {\n",
              "    background-color: var(--hover-bg-color);\n",
              "    box-shadow: 0 1px 2px rgba(60, 64, 67, 0.3), 0 1px 3px 1px rgba(60, 64, 67, 0.15);\n",
              "    fill: var(--button-hover-fill-color);\n",
              "  }\n",
              "\n",
              "  .colab-df-quickchart-complete:disabled,\n",
              "  .colab-df-quickchart-complete:disabled:hover {\n",
              "    background-color: var(--disabled-bg-color);\n",
              "    fill: var(--disabled-fill-color);\n",
              "    box-shadow: none;\n",
              "  }\n",
              "\n",
              "  .colab-df-spinner {\n",
              "    border: 2px solid var(--fill-color);\n",
              "    border-color: transparent;\n",
              "    border-bottom-color: var(--fill-color);\n",
              "    animation:\n",
              "      spin 1s steps(1) infinite;\n",
              "  }\n",
              "\n",
              "  @keyframes spin {\n",
              "    0% {\n",
              "      border-color: transparent;\n",
              "      border-bottom-color: var(--fill-color);\n",
              "      border-left-color: var(--fill-color);\n",
              "    }\n",
              "    20% {\n",
              "      border-color: transparent;\n",
              "      border-left-color: var(--fill-color);\n",
              "      border-top-color: var(--fill-color);\n",
              "    }\n",
              "    30% {\n",
              "      border-color: transparent;\n",
              "      border-left-color: var(--fill-color);\n",
              "      border-top-color: var(--fill-color);\n",
              "      border-right-color: var(--fill-color);\n",
              "    }\n",
              "    40% {\n",
              "      border-color: transparent;\n",
              "      border-right-color: var(--fill-color);\n",
              "      border-top-color: var(--fill-color);\n",
              "    }\n",
              "    60% {\n",
              "      border-color: transparent;\n",
              "      border-right-color: var(--fill-color);\n",
              "    }\n",
              "    80% {\n",
              "      border-color: transparent;\n",
              "      border-right-color: var(--fill-color);\n",
              "      border-bottom-color: var(--fill-color);\n",
              "    }\n",
              "    90% {\n",
              "      border-color: transparent;\n",
              "      border-bottom-color: var(--fill-color);\n",
              "    }\n",
              "  }\n",
              "</style>\n",
              "\n",
              "      <script>\n",
              "        async function quickchart(key) {\n",
              "          const quickchartButtonEl =\n",
              "            document.querySelector('#' + key + ' button');\n",
              "          quickchartButtonEl.disabled = true;  // To prevent multiple clicks.\n",
              "          quickchartButtonEl.classList.add('colab-df-spinner');\n",
              "          try {\n",
              "            const charts = await google.colab.kernel.invokeFunction(\n",
              "                'suggestCharts', [key], {});\n",
              "          } catch (error) {\n",
              "            console.error('Error during call to suggestCharts:', error);\n",
              "          }\n",
              "          quickchartButtonEl.classList.remove('colab-df-spinner');\n",
              "          quickchartButtonEl.classList.add('colab-df-quickchart-complete');\n",
              "        }\n",
              "        (() => {\n",
              "          let quickchartButtonEl =\n",
              "            document.querySelector('#df-aa564db6-616f-45c2-a783-490e3d93f11f button');\n",
              "          quickchartButtonEl.style.display =\n",
              "            google.colab.kernel.accessAllowed ? 'block' : 'none';\n",
              "        })();\n",
              "      </script>\n",
              "    </div>\n",
              "\n",
              "    </div>\n",
              "  </div>\n"
            ],
            "application/vnd.google.colaboratory.intrinsic+json": {
              "type": "dataframe",
              "summary": "{\n  \"name\": \"bank_marketing\",\n  \"rows\": 8,\n  \"fields\": [\n    {\n      \"column\": \"age\",\n      \"properties\": {\n        \"dtype\": \"number\",\n        \"std\": 3167.648163007095,\n        \"min\": 11.66425333147774,\n        \"max\": 9000.0,\n        \"num_unique_values\": 8,\n        \"samples\": [\n          41.090555555555554,\n          39.0,\n          9000.0\n        ],\n        \"semantic_type\": \"\",\n        \"description\": \"\"\n      }\n    },\n    {\n      \"column\": \"balance\",\n      \"properties\": {\n        \"dtype\": \"number\",\n        \"std\": 28273.84719029856,\n        \"min\": -3058.0,\n        \"max\": 81204.0,\n        \"num_unique_values\": 8,\n        \"samples\": [\n          1482.2627777777777,\n          519.0,\n          9000.0\n        ],\n        \"semantic_type\": \"\",\n        \"description\": \"\"\n      }\n    },\n    {\n      \"column\": \"day\",\n      \"properties\": {\n        \"dtype\": \"number\",\n        \"std\": 3176.9445239384527,\n        \"min\": 1.0,\n        \"max\": 9000.0,\n        \"num_unique_values\": 8,\n        \"samples\": [\n          15.619555555555555,\n          15.0,\n          9000.0\n        ],\n        \"semantic_type\": \"\",\n        \"description\": \"\"\n      }\n    },\n    {\n      \"column\": \"duration\",\n      \"properties\": {\n        \"dtype\": \"number\",\n        \"std\": 3125.292796036213,\n        \"min\": 3.0,\n        \"max\": 9000.0,\n        \"num_unique_values\": 8,\n        \"samples\": [\n          353.8327777777778,\n          240.5,\n          9000.0\n        ],\n        \"semantic_type\": \"\",\n        \"description\": \"\"\n      }\n    },\n    {\n      \"column\": \"campaign\",\n      \"properties\": {\n        \"dtype\": \"number\",\n        \"std\": 3178.492356457859,\n        \"min\": 1.0,\n        \"max\": 9000.0,\n        \"num_unique_values\": 7,\n        \"samples\": [\n          9000.0,\n          2.520111111111111,\n          3.0\n        ],\n        \"semantic_type\": \"\",\n        \"description\": \"\"\n      }\n    },\n    {\n      \"column\": \"pdays\",\n      \"properties\": {\n        \"dtype\": \"number\",\n        \"std\": 3144.7494223133626,\n        \"min\": -1.0,\n        \"max\": 9000.0,\n        \"num_unique_values\": 5,\n        \"samples\": [\n          50.51133333333333,\n          850.0,\n          107.69196318045314\n        ],\n        \"semantic_type\": \"\",\n        \"description\": \"\"\n      }\n    },\n    {\n      \"column\": \"previous\",\n      \"properties\": {\n        \"dtype\": \"number\",\n        \"std\": 3178.963359345115,\n        \"min\": 0.0,\n        \"max\": 9000.0,\n        \"num_unique_values\": 5,\n        \"samples\": [\n          0.7888888888888889,\n          58.0,\n          2.2102733414955793\n        ],\n        \"semantic_type\": \"\",\n        \"description\": \"\"\n      }\n    }\n  ]\n}"
            }
          },
          "metadata": {},
          "execution_count": 2
        }
      ],
      "execution_count": 2
    },
    {
      "metadata": {
        "ExecuteTime": {
          "end_time": "2025-07-16T20:44:36.065305Z",
          "start_time": "2025-07-16T20:44:35.440912Z"
        },
        "colab": {
          "base_uri": "https://localhost:8080/",
          "height": 720
        },
        "id": "4ea463c2548a2a56",
        "outputId": "2fb3fd70-7d82-41f8-d2be-fb8b15439d78"
      },
      "cell_type": "code",
      "source": [
        "import matplotlib.pyplot as plt\n",
        "bank_marketing.hist(bins = 50, figsize=(12,8))\n",
        "plt.show()"
      ],
      "id": "4ea463c2548a2a56",
      "outputs": [
        {
          "output_type": "display_data",
          "data": {
            "text/plain": [
              "<Figure size 1200x800 with 9 Axes>"
            ],
            "image/png": "[encoded data removed]"
          },
          "metadata": {}
        }
      ],
      "execution_count": 3
    },
    {
      "metadata": {
        "id": "32ca8aecf1c36a39"
      },
      "cell_type": "markdown",
      "source": [
        "6.\tTransforma las variables categóricas de manera que puedan ser tratadas numéricamente. Justifica si utilizas LabelEncoder o OneHotEcoder.\n",
        "7.\tTransforma las variables numéricas en los casos que se tenga algún tipo de sesgo."
      ],
      "id": "32ca8aecf1c36a39"
    },
    {
      "metadata": {
        "ExecuteTime": {
          "end_time": "2025-07-16T20:44:36.146909Z",
          "start_time": "2025-07-16T20:44:36.114132Z"
        },
        "colab": {
          "base_uri": "https://localhost:8080/",
          "height": 433
        },
        "id": "752fa344d7538d03",
        "outputId": "80bad9ea-71fc-4869-e7cc-8179d687f938"
      },
      "cell_type": "code",
      "source": [
        "from sklearn.preprocessing import OrdinalEncoder, StandardScaler\n",
        "categorical_data = bank_marketing.select_dtypes(include=['object']).columns\n",
        "numerical_data = bank_marketing.select_dtypes(include=['int64']).columns\n",
        "\n",
        "encoder = OrdinalEncoder()\n",
        "cat_encoded = pd.DataFrame(encoder.fit_transform(bank_marketing[categorical_data]),\n",
        "                           columns = categorical_data)\n",
        "\n",
        "scaler = StandardScaler()\n",
        "num_scaled = pd.DataFrame(scaler.fit_transform(bank_marketing[numerical_data]),\n",
        "                          columns = numerical_data)\n",
        "\n",
        "final_data = pd.concat([cat_encoded, num_scaled], axis = 1)\n",
        "final_data"
      ],
      "id": "752fa344d7538d03",
      "outputs": [
        {
          "output_type": "execute_result",
          "data": {
            "text/plain": [
              "       job  marital  education  default  housing  loan  contact  month  \\\n",
              "0      6.0      1.0        2.0      0.0      0.0   0.0      0.0    9.0   \n",
              "1     10.0      2.0        3.0      0.0      0.0   0.0      0.0   11.0   \n",
              "2      1.0      1.0        1.0      0.0      1.0   0.0      0.0    9.0   \n",
              "3      1.0      1.0        1.0      0.0      1.0   0.0      0.0    5.0   \n",
              "4      0.0      1.0        1.0      0.0      0.0   0.0      0.0    5.0   \n",
              "...    ...      ...        ...      ...      ...   ...      ...    ...   \n",
              "8995   1.0      1.0        1.0      0.0      1.0   1.0      2.0    8.0   \n",
              "8996   1.0      1.0        1.0      0.0      1.0   0.0      2.0    8.0   \n",
              "8997   7.0      2.0        1.0      0.0      0.0   0.0      2.0    6.0   \n",
              "8998   7.0      1.0        0.0      0.0      1.0   0.0      0.0    0.0   \n",
              "8999   9.0      1.0        1.0      0.0      1.0   0.0      0.0    6.0   \n",
              "\n",
              "      poutcome    y       age   balance       day  duration  campaign  \\\n",
              "0          2.0  1.0 -0.865132  0.390563 -0.673417 -0.106352 -0.189988   \n",
              "1          3.0  1.0 -1.036605  0.033567 -1.152755 -0.323016 -0.555270   \n",
              "2          3.0  0.0 -0.007764  0.220974  0.165425  0.045016 -0.555270   \n",
              "3          3.0  0.0  0.763867 -0.461344  0.165425 -0.996754  2.001709   \n",
              "4          2.0  1.0 -0.093501 -0.489059  1.483605  0.421953 -0.189988   \n",
              "...        ...  ...       ...       ...       ...       ...       ...   \n",
              "8995       3.0  0.0  0.077973 -0.385458  0.045590 -0.251784 -0.189988   \n",
              "8996       3.0  0.0 -0.779395 -0.327058 -0.913086 -0.388313 -0.189988   \n",
              "8997       3.0  0.0  0.249446  0.463150  0.524928 -0.958170 -0.555270   \n",
              "8998       3.0  1.0  1.364025 -0.327058 -0.074244  2.561886  0.175295   \n",
              "8999       0.0  1.0 -0.093501 -0.260080 -1.512258  0.229033 -0.189988   \n",
              "\n",
              "         pdays  previous  \n",
              "0     0.431706  2.357808  \n",
              "1    -0.478348 -0.356939  \n",
              "2    -0.478348 -0.356939  \n",
              "3    -0.478348 -0.356939  \n",
              "4     1.221038  4.620098  \n",
              "...        ...       ...  \n",
              "8995 -0.478348 -0.356939  \n",
              "8996 -0.478348 -0.356939  \n",
              "8997 -0.478348 -0.356939  \n",
              "8998 -0.478348 -0.356939  \n",
              "8999  0.636004  3.715182  \n",
              "\n",
              "[9000 rows x 17 columns]"
            ],
            "text/html": [
              "\n",
              "  <div id=\"df-6e76374b-3cb4-441f-a69a-7a647c769def\" class=\"colab-df-container\">\n",
              "    <div>\n",
              "<style scoped>\n",
              "    .dataframe tbody tr th:only-of-type {\n",
              "        vertical-align: middle;\n",
              "    }\n",
              "\n",
              "    .dataframe tbody tr th {\n",
              "        vertical-align: top;\n",
              "    }\n",
              "\n",
              "    .dataframe thead th {\n",
              "        text-align: right;\n",
              "    }\n",
              "</style>\n",
              "<table border=\"1\" class=\"dataframe\">\n",
              "  <thead>\n",
              "    <tr style=\"text-align: right;\">\n",
              "      <th></th>\n",
              "      <th>job</th>\n",
              "      <th>marital</th>\n",
              "      <th>education</th>\n",
              "      <th>default</th>\n",
              "      <th>housing</th>\n",
              "      <th>loan</th>\n",
              "      <th>contact</th>\n",
              "      <th>month</th>\n",
              "      <th>poutcome</th>\n",
              "      <th>y</th>\n",
              "      <th>age</th>\n",
              "      <th>balance</th>\n",
              "      <th>day</th>\n",
              "      <th>duration</th>\n",
              "      <th>campaign</th>\n",
              "      <th>pdays</th>\n",
              "      <th>previous</th>\n",
              "    </tr>\n",
              "  </thead>\n",
              "  <tbody>\n",
              "    <tr>\n",
              "      <th>0</th>\n",
              "      <td>6.0</td>\n",
              "      <td>1.0</td>\n",
              "      <td>2.0</td>\n",
              "      <td>0.0</td>\n",
              "      <td>0.0</td>\n",
              "      <td>0.0</td>\n",
              "      <td>0.0</td>\n",
              "      <td>9.0</td>\n",
              "      <td>2.0</td>\n",
              "      <td>1.0</td>\n",
              "      <td>-0.865132</td>\n",
              "      <td>0.390563</td>\n",
              "      <td>-0.673417</td>\n",
              "      <td>-0.106352</td>\n",
              "      <td>-0.189988</td>\n",
              "      <td>0.431706</td>\n",
              "      <td>2.357808</td>\n",
              "    </tr>\n",
              "    <tr>\n",
              "      <th>1</th>\n",
              "      <td>10.0</td>\n",
              "      <td>2.0</td>\n",
              "      <td>3.0</td>\n",
              "      <td>0.0</td>\n",
              "      <td>0.0</td>\n",
              "      <td>0.0</td>\n",
              "      <td>0.0</td>\n",
              "      <td>11.0</td>\n",
              "      <td>3.0</td>\n",
              "      <td>1.0</td>\n",
              "      <td>-1.036605</td>\n",
              "      <td>0.033567</td>\n",
              "      <td>-1.152755</td>\n",
              "      <td>-0.323016</td>\n",
              "      <td>-0.555270</td>\n",
              "      <td>-0.478348</td>\n",
              "      <td>-0.356939</td>\n",
              "    </tr>\n",
              "    <tr>\n",
              "      <th>2</th>\n",
              "      <td>1.0</td>\n",
              "      <td>1.0</td>\n",
              "      <td>1.0</td>\n",
              "      <td>0.0</td>\n",
              "      <td>1.0</td>\n",
              "      <td>0.0</td>\n",
              "      <td>0.0</td>\n",
              "      <td>9.0</td>\n",
              "      <td>3.0</td>\n",
              "      <td>0.0</td>\n",
              "      <td>-0.007764</td>\n",
              "      <td>0.220974</td>\n",
              "      <td>0.165425</td>\n",
              "      <td>0.045016</td>\n",
              "      <td>-0.555270</td>\n",
              "      <td>-0.478348</td>\n",
              "      <td>-0.356939</td>\n",
              "    </tr>\n",
              "    <tr>\n",
              "      <th>3</th>\n",
              "      <td>1.0</td>\n",
              "      <td>1.0</td>\n",
              "      <td>1.0</td>\n",
              "      <td>0.0</td>\n",
              "      <td>1.0</td>\n",
              "      <td>0.0</td>\n",
              "      <td>0.0</td>\n",
              "      <td>5.0</td>\n",
              "      <td>3.0</td>\n",
              "      <td>0.0</td>\n",
              "      <td>0.763867</td>\n",
              "      <td>-0.461344</td>\n",
              "      <td>0.165425</td>\n",
              "      <td>-0.996754</td>\n",
              "      <td>2.001709</td>\n",
              "      <td>-0.478348</td>\n",
              "      <td>-0.356939</td>\n",
              "    </tr>\n",
              "    <tr>\n",
              "      <th>4</th>\n",
              "      <td>0.0</td>\n",
              "      <td>1.0</td>\n",
              "      <td>1.0</td>\n",
              "      <td>0.0</td>\n",
              "      <td>0.0</td>\n",
              "      <td>0.0</td>\n",
              "      <td>0.0</td>\n",
              "      <td>5.0</td>\n",
              "      <td>2.0</td>\n",
              "      <td>1.0</td>\n",
              "      <td>-0.093501</td>\n",
              "      <td>-0.489059</td>\n",
              "      <td>1.483605</td>\n",
              "      <td>0.421953</td>\n",
              "      <td>-0.189988</td>\n",
              "      <td>1.221038</td>\n",
              "      <td>4.620098</td>\n",
              "    </tr>\n",
              "    <tr>\n",
              "      <th>...</th>\n",
              "      <td>...</td>\n",
              "      <td>...</td>\n",
              "      <td>...</td>\n",
              "      <td>...</td>\n",
              "      <td>...</td>\n",
              "      <td>...</td>\n",
              "      <td>...</td>\n",
              "      <td>...</td>\n",
              "      <td>...</td>\n",
              "      <td>...</td>\n",
              "      <td>...</td>\n",
              "      <td>...</td>\n",
              "      <td>...</td>\n",
              "      <td>...</td>\n",
              "      <td>...</td>\n",
              "      <td>...</td>\n",
              "      <td>...</td>\n",
              "    </tr>\n",
              "    <tr>\n",
              "      <th>8995</th>\n",
              "      <td>1.0</td>\n",
              "      <td>1.0</td>\n",
              "      <td>1.0</td>\n",
              "      <td>0.0</td>\n",
              "      <td>1.0</td>\n",
              "      <td>1.0</td>\n",
              "      <td>2.0</td>\n",
              "      <td>8.0</td>\n",
              "      <td>3.0</td>\n",
              "      <td>0.0</td>\n",
              "      <td>0.077973</td>\n",
              "      <td>-0.385458</td>\n",
              "      <td>0.045590</td>\n",
              "      <td>-0.251784</td>\n",
              "      <td>-0.189988</td>\n",
              "      <td>-0.478348</td>\n",
              "      <td>-0.356939</td>\n",
              "    </tr>\n",
              "    <tr>\n",
              "      <th>8996</th>\n",
              "      <td>1.0</td>\n",
              "      <td>1.0</td>\n",
              "      <td>1.0</td>\n",
              "      <td>0.0</td>\n",
              "      <td>1.0</td>\n",
              "      <td>0.0</td>\n",
              "      <td>2.0</td>\n",
              "      <td>8.0</td>\n",
              "      <td>3.0</td>\n",
              "      <td>0.0</td>\n",
              "      <td>-0.779395</td>\n",
              "      <td>-0.327058</td>\n",
              "      <td>-0.913086</td>\n",
              "      <td>-0.388313</td>\n",
              "      <td>-0.189988</td>\n",
              "      <td>-0.478348</td>\n",
              "      <td>-0.356939</td>\n",
              "    </tr>\n",
              "    <tr>\n",
              "      <th>8997</th>\n",
              "      <td>7.0</td>\n",
              "      <td>2.0</td>\n",
              "      <td>1.0</td>\n",
              "      <td>0.0</td>\n",
              "      <td>0.0</td>\n",
              "      <td>0.0</td>\n",
              "      <td>2.0</td>\n",
              "      <td>6.0</td>\n",
              "      <td>3.0</td>\n",
              "      <td>0.0</td>\n",
              "      <td>0.249446</td>\n",
              "      <td>0.463150</td>\n",
              "      <td>0.524928</td>\n",
              "      <td>-0.958170</td>\n",
              "      <td>-0.555270</td>\n",
              "      <td>-0.478348</td>\n",
              "      <td>-0.356939</td>\n",
              "    </tr>\n",
              "    <tr>\n",
              "      <th>8998</th>\n",
              "      <td>7.0</td>\n",
              "      <td>1.0</td>\n",
              "      <td>0.0</td>\n",
              "      <td>0.0</td>\n",
              "      <td>1.0</td>\n",
              "      <td>0.0</td>\n",
              "      <td>0.0</td>\n",
              "      <td>0.0</td>\n",
              "      <td>3.0</td>\n",
              "      <td>1.0</td>\n",
              "      <td>1.364025</td>\n",
              "      <td>-0.327058</td>\n",
              "      <td>-0.074244</td>\n",
              "      <td>2.561886</td>\n",
              "      <td>0.175295</td>\n",
              "      <td>-0.478348</td>\n",
              "      <td>-0.356939</td>\n",
              "    </tr>\n",
              "    <tr>\n",
              "      <th>8999</th>\n",
              "      <td>9.0</td>\n",
              "      <td>1.0</td>\n",
              "      <td>1.0</td>\n",
              "      <td>0.0</td>\n",
              "      <td>1.0</td>\n",
              "      <td>0.0</td>\n",
              "      <td>0.0</td>\n",
              "      <td>6.0</td>\n",
              "      <td>0.0</td>\n",
              "      <td>1.0</td>\n",
              "      <td>-0.093501</td>\n",
              "      <td>-0.260080</td>\n",
              "      <td>-1.512258</td>\n",
              "      <td>0.229033</td>\n",
              "      <td>-0.189988</td>\n",
              "      <td>0.636004</td>\n",
              "      <td>3.715182</td>\n",
              "    </tr>\n",
              "  </tbody>\n",
              "</table>\n",
              "<p>9000 rows × 17 columns</p>\n",
              "</div>\n",
              "    <div class=\"colab-df-buttons\">\n",
              "\n",
              "  <div class=\"colab-df-container\">\n",
              "    <button class=\"colab-df-convert\" onclick=\"convertToInteractive('df-6e76374b-3cb4-441f-a69a-7a647c769def')\"\n",
              "            title=\"Convert this dataframe to an interactive table.\"\n",
              "            style=\"display:none;\">\n",
              "\n",
              "  <svg xmlns=\"http://www.w3.org/2000/svg\" height=\"24px\" viewBox=\"0 -960 960 960\">\n",
              "    <path d=\"M120-120v-720h720v720H120Zm60-500h600v-160H180v160Zm220 220h160v-160H400v160Zm0 220h160v-160H400v160ZM180-400h160v-160H180v160Zm440 0h160v-160H620v160ZM180-180h160v-160H180v160Zm440 0h160v-160H620v160Z\"/>\n",
              "  </svg>\n",
              "    </button>\n",
              "\n",
              "  <style>\n",
              "    .colab-df-container {\n",
              "      display:flex;\n",
              "      gap: 12px;\n",
              "    }\n",
              "\n",
              "    .colab-df-convert {\n",
              "      background-color: #E8F0FE;\n",
              "      border: none;\n",
              "      border-radius: 50%;\n",
              "      cursor: pointer;\n",
              "      display: none;\n",
              "      fill: #1967D2;\n",
              "      height: 32px;\n",
              "      padding: 0 0 0 0;\n",
              "      width: 32px;\n",
              "    }\n",
              "\n",
              "    .colab-df-convert:hover {\n",
              "      background-color: #E2EBFA;\n",
              "      box-shadow: 0px 1px 2px rgba(60, 64, 67, 0.3), 0px 1px 3px 1px rgba(60, 64, 67, 0.15);\n",
              "      fill: #174EA6;\n",
              "    }\n",
              "\n",
              "    .colab-df-buttons div {\n",
              "      margin-bottom: 4px;\n",
              "    }\n",
              "\n",
              "    [theme=dark] .colab-df-convert {\n",
              "      background-color: #3B4455;\n",
              "      fill: #D2E3FC;\n",
              "    }\n",
              "\n",
              "    [theme=dark] .colab-df-convert:hover {\n",
              "      background-color: #434B5C;\n",
              "      box-shadow: 0px 1px 3px 1px rgba(0, 0, 0, 0.15);\n",
              "      filter: drop-shadow(0px 1px 2px rgba(0, 0, 0, 0.3));\n",
              "      fill: #FFFFFF;\n",
              "    }\n",
              "  </style>\n",
              "\n",
              "    <script>\n",
              "      const buttonEl =\n",
              "        document.querySelector('#df-6e76374b-3cb4-441f-a69a-7a647c769def button.colab-df-convert');\n",
              "      buttonEl.style.display =\n",
              "        google.colab.kernel.accessAllowed ? 'block' : 'none';\n",
              "\n",
              "      async function convertToInteractive(key) {\n",
              "        const element = document.querySelector('#df-6e76374b-3cb4-441f-a69a-7a647c769def');\n",
              "        const dataTable =\n",
              "          await google.colab.kernel.invokeFunction('convertToInteractive',\n",
              "                                                    [key], {});\n",
              "        if (!dataTable) return;\n",
              "\n",
              "        const docLinkHtml = 'Like what you see? Visit the ' +\n",
              "          '<a target=\"_blank\" href=https://colab.research.google.com/notebooks/data_table.ipynb>data table notebook</a>'\n",
              "          + ' to learn more about interactive tables.';\n",
              "        element.innerHTML = '';\n",
              "        dataTable['output_type'] = 'display_data';\n",
              "        await google.colab.output.renderOutput(dataTable, element);\n",
              "        const docLink = document.createElement('div');\n",
              "        docLink.innerHTML = docLinkHtml;\n",
              "        element.appendChild(docLink);\n",
              "      }\n",
              "    </script>\n",
              "  </div>\n",
              "\n",
              "\n",
              "    <div id=\"df-c612bc27-0970-4a8b-8c0d-5e43be0eea78\">\n",
              "      <button class=\"colab-df-quickchart\" onclick=\"quickchart('df-c612bc27-0970-4a8b-8c0d-5e43be0eea78')\"\n",
              "                title=\"Suggest charts\"\n",
              "                style=\"display:none;\">\n",
              "\n",
              "<svg xmlns=\"http://www.w3.org/2000/svg\" height=\"24px\"viewBox=\"0 0 24 24\"\n",
              "     width=\"24px\">\n",
              "    <g>\n",
              "        <path d=\"M19 3H5c-1.1 0-2 .9-2 2v14c0 1.1.9 2 2 2h14c1.1 0 2-.9 2-2V5c0-1.1-.9-2-2-2zM9 17H7v-7h2v7zm4 0h-2V7h2v10zm4 0h-2v-4h2v4z\"/>\n",
              "    </g>\n",
              "</svg>\n",
              "      </button>\n",
              "\n",
              "<style>\n",
              "  .colab-df-quickchart {\n",
              "      --bg-color: #E8F0FE;\n",
              "      --fill-color: #1967D2;\n",
              "      --hover-bg-color: #E2EBFA;\n",
              "      --hover-fill-color: #174EA6;\n",
              "      --disabled-fill-color: #AAA;\n",
              "      --disabled-bg-color: #DDD;\n",
              "  }\n",
              "\n",
              "  [theme=dark] .colab-df-quickchart {\n",
              "      --bg-color: #3B4455;\n",
              "      --fill-color: #D2E3FC;\n",
              "      --hover-bg-color: #434B5C;\n",
              "      --hover-fill-color: #FFFFFF;\n",
              "      --disabled-bg-color: #3B4455;\n",
              "      --disabled-fill-color: #666;\n",
              "  }\n",
              "\n",
              "  .colab-df-quickchart {\n",
              "    background-color: var(--bg-color);\n",
              "    border: none;\n",
              "    border-radius: 50%;\n",
              "    cursor: pointer;\n",
              "    display: none;\n",
              "    fill: var(--fill-color);\n",
              "    height: 32px;\n",
              "    padding: 0;\n",
              "    width: 32px;\n",
              "  }\n",
              "\n",
              "  .colab-df-quickchart:hover {\n",
              "    background-color: var(--hover-bg-color);\n",
              "    box-shadow: 0 1px 2px rgba(60, 64, 67, 0.3), 0 1px 3px 1px rgba(60, 64, 67, 0.15);\n",
              "    fill: var(--button-hover-fill-color);\n",
              "  }\n",
              "\n",
              "  .colab-df-quickchart-complete:disabled,\n",
              "  .colab-df-quickchart-complete:disabled:hover {\n",
              "    background-color: var(--disabled-bg-color);\n",
              "    fill: var(--disabled-fill-color);\n",
              "    box-shadow: none;\n",
              "  }\n",
              "\n",
              "  .colab-df-spinner {\n",
              "    border: 2px solid var(--fill-color);\n",
              "    border-color: transparent;\n",
              "    border-bottom-color: var(--fill-color);\n",
              "    animation:\n",
              "      spin 1s steps(1) infinite;\n",
              "  }\n",
              "\n",
              "  @keyframes spin {\n",
              "    0% {\n",
              "      border-color: transparent;\n",
              "      border-bottom-color: var(--fill-color);\n",
              "      border-left-color: var(--fill-color);\n",
              "    }\n",
              "    20% {\n",
              "      border-color: transparent;\n",
              "      border-left-color: var(--fill-color);\n",
              "      border-top-color: var(--fill-color);\n",
              "    }\n",
              "    30% {\n",
              "      border-color: transparent;\n",
              "      border-left-color: var(--fill-color);\n",
              "      border-top-color: var(--fill-color);\n",
              "      border-right-color: var(--fill-color);\n",
              "    }\n",
              "    40% {\n",
              "      border-color: transparent;\n",
              "      border-right-color: var(--fill-color);\n",
              "      border-top-color: var(--fill-color);\n",
              "    }\n",
              "    60% {\n",
              "      border-color: transparent;\n",
              "      border-right-color: var(--fill-color);\n",
              "    }\n",
              "    80% {\n",
              "      border-color: transparent;\n",
              "      border-right-color: var(--fill-color);\n",
              "      border-bottom-color: var(--fill-color);\n",
              "    }\n",
              "    90% {\n",
              "      border-color: transparent;\n",
              "      border-bottom-color: var(--fill-color);\n",
              "    }\n",
              "  }\n",
              "</style>\n",
              "\n",
              "      <script>\n",
              "        async function quickchart(key) {\n",
              "          const quickchartButtonEl =\n",
              "            document.querySelector('#' + key + ' button');\n",
              "          quickchartButtonEl.disabled = true;  // To prevent multiple clicks.\n",
              "          quickchartButtonEl.classList.add('colab-df-spinner');\n",
              "          try {\n",
              "            const charts = await google.colab.kernel.invokeFunction(\n",
              "                'suggestCharts', [key], {});\n",
              "          } catch (error) {\n",
              "            console.error('Error during call to suggestCharts:', error);\n",
              "          }\n",
              "          quickchartButtonEl.classList.remove('colab-df-spinner');\n",
              "          quickchartButtonEl.classList.add('colab-df-quickchart-complete');\n",
              "        }\n",
              "        (() => {\n",
              "          let quickchartButtonEl =\n",
              "            document.querySelector('#df-c612bc27-0970-4a8b-8c0d-5e43be0eea78 button');\n",
              "          quickchartButtonEl.style.display =\n",
              "            google.colab.kernel.accessAllowed ? 'block' : 'none';\n",
              "        })();\n",
              "      </script>\n",
              "    </div>\n",
              "\n",
              "  <div id=\"id_6116c90a-ecc6-4457-8649-2caf7ff6e663\">\n",
              "    <style>\n",
              "      .colab-df-generate {\n",
              "        background-color: #E8F0FE;\n",
              "        border: none;\n",
              "        border-radius: 50%;\n",
              "        cursor: pointer;\n",
              "        display: none;\n",
              "        fill: #1967D2;\n",
              "        height: 32px;\n",
              "        padding: 0 0 0 0;\n",
              "        width: 32px;\n",
              "      }\n",
              "\n",
              "      .colab-df-generate:hover {\n",
              "        background-color: #E2EBFA;\n",
              "        box-shadow: 0px 1px 2px rgba(60, 64, 67, 0.3), 0px 1px 3px 1px rgba(60, 64, 67, 0.15);\n",
              "        fill: #174EA6;\n",
              "      }\n",
              "\n",
              "      [theme=dark] .colab-df-generate {\n",
              "        background-color: #3B4455;\n",
              "        fill: #D2E3FC;\n",
              "      }\n",
              "\n",
              "      [theme=dark] .colab-df-generate:hover {\n",
              "        background-color: #434B5C;\n",
              "        box-shadow: 0px 1px 3px 1px rgba(0, 0, 0, 0.15);\n",
              "        filter: drop-shadow(0px 1px 2px rgba(0, 0, 0, 0.3));\n",
              "        fill: #FFFFFF;\n",
              "      }\n",
              "    </style>\n",
              "    <button class=\"colab-df-generate\" onclick=\"generateWithVariable('final_data')\"\n",
              "            title=\"Generate code using this dataframe.\"\n",
              "            style=\"display:none;\">\n",
              "\n",
              "  <svg xmlns=\"http://www.w3.org/2000/svg\" height=\"24px\"viewBox=\"0 0 24 24\"\n",
              "       width=\"24px\">\n",
              "    <path d=\"M7,19H8.4L18.45,9,17,7.55,7,17.6ZM5,21V16.75L18.45,3.32a2,2,0,0,1,2.83,0l1.4,1.43a1.91,1.91,0,0,1,.58,1.4,1.91,1.91,0,0,1-.58,1.4L9.25,21ZM18.45,9,17,7.55Zm-12,3A5.31,5.31,0,0,0,4.9,8.1,5.31,5.31,0,0,0,1,6.5,5.31,5.31,0,0,0,4.9,4.9,5.31,5.31,0,0,0,6.5,1,5.31,5.31,0,0,0,8.1,4.9,5.31,5.31,0,0,0,12,6.5,5.46,5.46,0,0,0,6.5,12Z\"/>\n",
              "  </svg>\n",
              "    </button>\n",
              "    <script>\n",
              "      (() => {\n",
              "      const buttonEl =\n",
              "        document.querySelector('#id_6116c90a-ecc6-4457-8649-2caf7ff6e663 button.colab-df-generate');\n",
              "      buttonEl.style.display =\n",
              "        google.colab.kernel.accessAllowed ? 'block' : 'none';\n",
              "\n",
              "      buttonEl.onclick = () => {\n",
              "        google.colab.notebook.generateWithVariable('final_data');\n",
              "      }\n",
              "      })();\n",
              "    </script>\n",
              "  </div>\n",
              "\n",
              "    </div>\n",
              "  </div>\n"
            ],
            "application/vnd.google.colaboratory.intrinsic+json": {
              "type": "dataframe",
              "variable_name": "final_data",
              "summary": "{\n  \"name\": \"final_data\",\n  \"rows\": 9000,\n  \"fields\": [\n    {\n      \"column\": \"job\",\n      \"properties\": {\n        \"dtype\": \"number\",\n        \"std\": 3.2332379433206544,\n        \"min\": 0.0,\n        \"max\": 11.0,\n        \"num_unique_values\": 12,\n        \"samples\": [\n          3.0,\n          8.0,\n          6.0\n        ],\n        \"semantic_type\": \"\",\n        \"description\": \"\"\n      }\n    },\n    {\n      \"column\": \"marital\",\n      \"properties\": {\n        \"dtype\": \"number\",\n        \"std\": 0.6251391271356914,\n        \"min\": 0.0,\n        \"max\": 2.0,\n        \"num_unique_values\": 3,\n        \"samples\": [\n          1.0,\n          2.0,\n          0.0\n        ],\n        \"semantic_type\": \"\",\n        \"description\": \"\"\n      }\n    },\n    {\n      \"column\": \"education\",\n      \"properties\": {\n        \"dtype\": \"number\",\n        \"std\": 0.7456507221510701,\n        \"min\": 0.0,\n        \"max\": 3.0,\n        \"num_unique_values\": 4,\n        \"samples\": [\n          3.0,\n          0.0,\n          2.0\n        ],\n        \"semantic_type\": \"\",\n        \"description\": \"\"\n      }\n    },\n    {\n      \"column\": \"default\",\n      \"properties\": {\n        \"dtype\": \"number\",\n        \"std\": 0.1215592112885514,\n        \"min\": 0.0,\n        \"max\": 1.0,\n        \"num_unique_values\": 2,\n        \"samples\": [\n          1.0,\n          0.0\n        ],\n        \"semantic_type\": \"\",\n        \"description\": \"\"\n      }\n    },\n    {\n      \"column\": \"housing\",\n      \"properties\": {\n        \"dtype\": \"number\",\n        \"std\": 0.49997720682450225,\n        \"min\": 0.0,\n        \"max\": 1.0,\n        \"num_unique_values\": 2,\n        \"samples\": [\n          1.0,\n          0.0\n        ],\n        \"semantic_type\": \"\",\n        \"description\": \"\"\n      }\n    },\n    {\n      \"column\": \"loan\",\n      \"properties\": {\n        \"dtype\": \"number\",\n        \"std\": 0.3375405856314356,\n        \"min\": 0.0,\n        \"max\": 1.0,\n        \"num_unique_values\": 2,\n        \"samples\": [\n          1.0,\n          0.0\n        ],\n        \"semantic_type\": \"\",\n        \"description\": \"\"\n      }\n    },\n    {\n      \"column\": \"contact\",\n      \"properties\": {\n        \"dtype\": \"number\",\n        \"std\": 0.8309616508168807,\n        \"min\": 0.0,\n        \"max\": 2.0,\n        \"num_unique_values\": 3,\n        \"samples\": [\n          0.0,\n          2.0\n        ],\n        \"semantic_type\": \"\",\n        \"description\": \"\"\n      }\n    },\n    {\n      \"column\": \"month\",\n      \"properties\": {\n        \"dtype\": \"number\",\n        \"std\": 3.1472626777065416,\n        \"min\": 0.0,\n        \"max\": 11.0,\n        \"num_unique_values\": 12,\n        \"samples\": [\n          3.0,\n          0.0\n        ],\n        \"semantic_type\": \"\",\n        \"description\": \"\"\n      }\n    },\n    {\n      \"column\": \"poutcome\",\n      \"properties\": {\n        \"dtype\": \"number\",\n        \"std\": 1.0091694776687736,\n        \"min\": 0.0,\n        \"max\": 3.0,\n        \"num_unique_values\": 4,\n        \"samples\": [\n          3.0,\n          1.0\n        ],\n        \"semantic_type\": \"\",\n        \"description\": \"\"\n      }\n    },\n    {\n      \"column\": \"y\",\n      \"properties\": {\n        \"dtype\": \"number\",\n        \"std\": 0.4937113761521578,\n        \"min\": 0.0,\n        \"max\": 1.0,\n        \"num_unique_values\": 2,\n        \"samples\": [\n          0.0,\n          1.0\n        ],\n        \"semantic_type\": \"\",\n        \"description\": \"\"\n      }\n    },\n    {\n      \"column\": \"age\",\n      \"properties\": {\n        \"dtype\": \"number\",\n        \"std\": 1.0000555601856058,\n        \"min\": -1.9797099578411401,\n        \"max\": 4.622022355918262,\n        \"num_unique_values\": 74,\n        \"samples\": [\n          -0.09350072533845372,\n          3.421707389780189\n        ],\n        \"semantic_type\": \"\",\n        \"description\": \"\"\n      }\n    },\n    {\n      \"column\": \"balance\",\n      \"properties\": {\n        \"dtype\": \"number\",\n        \"std\": 1.0000555601856105,\n        \"min\": -1.4980188935125764,\n        \"max\": 26.30347062003884,\n        \"num_unique_values\": 3476,\n        \"samples\": [\n          0.07151049833622956,\n          0.19292879057931567\n        ],\n        \"semantic_type\": \"\",\n        \"description\": \"\"\n      }\n    },\n    {\n      \"column\": \"day\",\n      \"properties\": {\n        \"dtype\": \"number\",\n        \"std\": 1.0000555601856276,\n        \"min\": -1.7519273721876987,\n        \"max\": 1.8431081243365812,\n        \"num_unique_values\": 31,\n        \"samples\": [\n          1.723273607785772,\n          -1.7519273721876987\n        ],\n        \"semantic_type\": \"\",\n        \"description\": \"\"\n      }\n    },\n    {\n      \"column\": \"duration\",\n      \"properties\": {\n        \"dtype\": \"number\",\n        \"std\": 1.0000555601856163,\n        \"min\": -1.0412741128548966,\n        \"max\": 8.604748383144534,\n        \"num_unique_values\": 1327,\n        \"samples\": [\n          0.7068819641123849,\n          -0.26959231317494203\n        ],\n        \"semantic_type\": \"\",\n        \"description\": \"\"\n      }\n    },\n    {\n      \"column\": \"campaign\",\n      \"properties\": {\n        \"dtype\": \"number\",\n        \"std\": 1.0000555601856356,\n        \"min\": -0.5552703099383184,\n        \"max\": 20.26584430144662,\n        \"num_unique_values\": 34,\n        \"samples\": [\n          9.672645639513934,\n          4.19340495230737\n        ],\n        \"semantic_type\": \"\",\n        \"description\": \"\"\n      }\n    },\n    {\n      \"column\": \"pdays\",\n      \"properties\": {\n        \"dtype\": \"number\",\n        \"std\": 1.0000555601855603,\n        \"min\": -0.47834762958362037,\n        \"max\": 7.4242595528292,\n        \"num_unique_values\": 437,\n        \"samples\": [\n          2.3539616426089887,\n          1.1560341143701474\n        ],\n        \"semantic_type\": \"\",\n        \"description\": \"\"\n      }\n    },\n    {\n      \"column\": \"previous\",\n      \"properties\": {\n        \"dtype\": \"number\",\n        \"std\": 1.0000555601856347,\n        \"min\": -0.3569389834689701,\n        \"max\": 25.885617265939818,\n        \"num_unique_values\": 31,\n        \"samples\": [\n          10.049591943020722,\n          6.882386878436902\n        ],\n        \"semantic_type\": \"\",\n        \"description\": \"\"\n      }\n    }\n  ]\n}"
            }
          },
          "metadata": {},
          "execution_count": 4
        }
      ],
      "execution_count": 4
    },
    {
      "metadata": {
        "ExecuteTime": {
          "end_time": "2025-07-16T20:44:36.207738Z",
          "start_time": "2025-07-16T20:44:36.201135Z"
        },
        "id": "80a6885db08bd15f"
      },
      "cell_type": "code",
      "source": [
        "matrix_corr = final_data.corr()"
      ],
      "id": "80a6885db08bd15f",
      "outputs": [],
      "execution_count": 5
    },
    {
      "metadata": {
        "ExecuteTime": {
          "end_time": "2025-07-16T20:44:36.268427Z",
          "start_time": "2025-07-16T20:44:36.264740Z"
        },
        "colab": {
          "base_uri": "https://localhost:8080/",
          "height": 620
        },
        "id": "4cc67b40be952a6c",
        "outputId": "c0e64f30-ee84-4058-966b-b5067a96e3ee"
      },
      "cell_type": "code",
      "source": [
        "matrix_corr['y'].sort_values(ascending=False)"
      ],
      "id": "4cc67b40be952a6c",
      "outputs": [
        {
          "output_type": "execute_result",
          "data": {
            "text/plain": [
              "y            1.000000\n",
              "duration     0.468315\n",
              "previous     0.146382\n",
              "pdays        0.129455\n",
              "education    0.107119\n",
              "balance      0.081686\n",
              "job          0.065197\n",
              "marital      0.053806\n",
              "age          0.036028\n",
              "month       -0.027041\n",
              "default     -0.031116\n",
              "day         -0.044050\n",
              "loan        -0.098367\n",
              "poutcome    -0.100358\n",
              "campaign    -0.118934\n",
              "housing     -0.206888\n",
              "contact     -0.229697\n",
              "Name: y, dtype: float64"
            ],
            "text/html": [
              "<div>\n",
              "<style scoped>\n",
              "    .dataframe tbody tr th:only-of-type {\n",
              "        vertical-align: middle;\n",
              "    }\n",
              "\n",
              "    .dataframe tbody tr th {\n",
              "        vertical-align: top;\n",
              "    }\n",
              "\n",
              "    .dataframe thead th {\n",
              "        text-align: right;\n",
              "    }\n",
              "</style>\n",
              "<table border=\"1\" class=\"dataframe\">\n",
              "  <thead>\n",
              "    <tr style=\"text-align: right;\">\n",
              "      <th></th>\n",
              "      <th>y</th>\n",
              "    </tr>\n",
              "  </thead>\n",
              "  <tbody>\n",
              "    <tr>\n",
              "      <th>y</th>\n",
              "      <td>1.000000</td>\n",
              "    </tr>\n",
              "    <tr>\n",
              "      <th>duration</th>\n",
              "      <td>0.468315</td>\n",
              "    </tr>\n",
              "    <tr>\n",
              "      <th>previous</th>\n",
              "      <td>0.146382</td>\n",
              "    </tr>\n",
              "    <tr>\n",
              "      <th>pdays</th>\n",
              "      <td>0.129455</td>\n",
              "    </tr>\n",
              "    <tr>\n",
              "      <th>education</th>\n",
              "      <td>0.107119</td>\n",
              "    </tr>\n",
              "    <tr>\n",
              "      <th>balance</th>\n",
              "      <td>0.081686</td>\n",
              "    </tr>\n",
              "    <tr>\n",
              "      <th>job</th>\n",
              "      <td>0.065197</td>\n",
              "    </tr>\n",
              "    <tr>\n",
              "      <th>marital</th>\n",
              "      <td>0.053806</td>\n",
              "    </tr>\n",
              "    <tr>\n",
              "      <th>age</th>\n",
              "      <td>0.036028</td>\n",
              "    </tr>\n",
              "    <tr>\n",
              "      <th>month</th>\n",
              "      <td>-0.027041</td>\n",
              "    </tr>\n",
              "    <tr>\n",
              "      <th>default</th>\n",
              "      <td>-0.031116</td>\n",
              "    </tr>\n",
              "    <tr>\n",
              "      <th>day</th>\n",
              "      <td>-0.044050</td>\n",
              "    </tr>\n",
              "    <tr>\n",
              "      <th>loan</th>\n",
              "      <td>-0.098367</td>\n",
              "    </tr>\n",
              "    <tr>\n",
              "      <th>poutcome</th>\n",
              "      <td>-0.100358</td>\n",
              "    </tr>\n",
              "    <tr>\n",
              "      <th>campaign</th>\n",
              "      <td>-0.118934</td>\n",
              "    </tr>\n",
              "    <tr>\n",
              "      <th>housing</th>\n",
              "      <td>-0.206888</td>\n",
              "    </tr>\n",
              "    <tr>\n",
              "      <th>contact</th>\n",
              "      <td>-0.229697</td>\n",
              "    </tr>\n",
              "  </tbody>\n",
              "</table>\n",
              "</div><br><label><b>dtype:</b> float64</label>"
            ]
          },
          "metadata": {},
          "execution_count": 6
        }
      ],
      "execution_count": 6
    },
    {
      "metadata": {
        "id": "bfdecbc6fc09cf0"
      },
      "cell_type": "markdown",
      "source": [
        "9.\tParticiona los datos en los conjuntos de entrenamiento, validación y prueba en 60%, 20% y 20%, respectivamente."
      ],
      "id": "bfdecbc6fc09cf0"
    },
    {
      "metadata": {
        "ExecuteTime": {
          "end_time": "2025-07-16T20:44:36.309173Z",
          "start_time": "2025-07-16T20:44:36.303198Z"
        },
        "colab": {
          "base_uri": "https://localhost:8080/"
        },
        "id": "ef294c92a07177b7",
        "outputId": "cc6b249c-8b6c-4982-b691-e16b3f7b03be"
      },
      "cell_type": "code",
      "source": [
        "from sklearn.model_selection import train_test_split\n",
        "\n",
        "X = final_data.drop('y', axis=1).to_numpy()\n",
        "y = final_data['y'].to_numpy()\n",
        "\n",
        "X_train, X_validation_test, y_train, y_validation_test = \\\n",
        "    train_test_split(X, y, train_size = 0.6, random_state = 42)\n",
        "\n",
        "X_validation, X_test, y_validation, y_test = \\\n",
        "    train_test_split(X_validation_test, y_validation_test, test_size = 0.5, random_state = 42)\n",
        "\n",
        "print('Conjunto de entrenamiento:', X_train.shape, y_train.shape)\n",
        "print('Conjunto de validación:', X_validation.shape, y_validation.shape)\n",
        "print('Conjunto de prueba:', X_test.shape, y_test.shape)"
      ],
      "id": "ef294c92a07177b7",
      "outputs": [
        {
          "output_type": "stream",
          "name": "stdout",
          "text": [
            "Conjunto de entrenamiento: (5400, 16) (5400,)\n",
            "Conjunto de validación: (1800, 16) (1800,)\n",
            "Conjunto de prueba: (1800, 16) (1800,)\n"
          ]
        }
      ],
      "execution_count": 7
    },
    {
      "metadata": {
        "id": "55a8d985dda1ab1d"
      },
      "cell_type": "markdown",
      "source": [
        "10.\tAplica el modelo Regresión Logística en el conjunto de entrenamiento. Valida el modelo con las predicciones del conjunto de validación y su matriz de confusión. Ajusta los parámetros del modelo hasta obtener tu mejor resultado."
      ],
      "id": "55a8d985dda1ab1d"
    },
    {
      "metadata": {
        "ExecuteTime": {
          "end_time": "2025-07-16T20:44:38.034117Z",
          "start_time": "2025-07-16T20:44:36.563755Z"
        },
        "colab": {
          "base_uri": "https://localhost:8080/"
        },
        "id": "f25c4501c9a5c68a",
        "outputId": "d3b51419-82af-40e2-812f-52c07151623b"
      },
      "cell_type": "code",
      "source": [
        "from sklearn.model_selection import GridSearchCV\n",
        "from sklearn.linear_model import LogisticRegression\n",
        "\n",
        "model = LogisticRegression(max_iter=1000)\n",
        "param_grid = {\n",
        "    'C': [0.01, 0.1, 1, 10],\n",
        "    'penalty': ['l1', 'l2'],\n",
        "    'solver': ['liblinear'],\n",
        "}\n",
        "\n",
        "grid = GridSearchCV(model, param_grid, cv=5, scoring='accuracy', verbose = 1)\n",
        "grid.fit(X_train, y_train)\n",
        "\n",
        "print(\"Best Parameters:\", grid.best_params_)\n",
        "print(\"Best score\", grid.best_score_)"
      ],
      "id": "f25c4501c9a5c68a",
      "outputs": [
        {
          "output_type": "stream",
          "name": "stdout",
          "text": [
            "Fitting 5 folds for each of 8 candidates, totalling 40 fits\n",
            "Best Parameters: {'C': 0.1, 'penalty': 'l1', 'solver': 'liblinear'}\n",
            "Best score 0.7944444444444445\n"
          ]
        }
      ],
      "execution_count": 8
    },
    {
      "metadata": {
        "ExecuteTime": {
          "end_time": "2025-07-16T20:44:38.166496Z",
          "start_time": "2025-07-16T20:44:38.110037Z"
        },
        "colab": {
          "base_uri": "https://localhost:8080/"
        },
        "id": "e4c2a7862dc615fd",
        "outputId": "8b0a47f0-c00a-4fa0-add3-1b9a8b7ee170"
      },
      "cell_type": "code",
      "source": [
        "model_LR2 = LogisticRegression(C=0.1, penalty='l1', solver='liblinear', random_state=42)\n",
        "model_LR2.fit(X_train, y_train)\n",
        "model_LR2.score(X_validation, y_validation)"
      ],
      "id": "e4c2a7862dc615fd",
      "outputs": [
        {
          "output_type": "execute_result",
          "data": {
            "text/plain": [
              "0.7888888888888889"
            ]
          },
          "metadata": {},
          "execution_count": 9
        }
      ],
      "execution_count": 9
    },
    {
      "metadata": {
        "ExecuteTime": {
          "end_time": "2025-07-16T20:44:38.192182Z",
          "start_time": "2025-07-16T20:44:38.182348Z"
        },
        "colab": {
          "base_uri": "https://localhost:8080/"
        },
        "id": "ef8387b175ea3257",
        "outputId": "a8ccf679-e5c5-4702-80f9-1ec653b4758d"
      },
      "cell_type": "code",
      "source": [
        "from sklearn.metrics import confusion_matrix\n",
        "y_pred = model_LR2.predict(X_validation)\n",
        "confusion_matrix(y_validation, y_pred)"
      ],
      "id": "ef8387b175ea3257",
      "outputs": [
        {
          "output_type": "execute_result",
          "data": {
            "text/plain": [
              "array([[896, 162],\n",
              "       [218, 524]])"
            ]
          },
          "metadata": {},
          "execution_count": 10
        }
      ],
      "execution_count": 10
    },
    {
      "metadata": {
        "ExecuteTime": {
          "end_time": "2025-07-16T20:44:38.454048Z",
          "start_time": "2025-07-16T20:44:38.256171Z"
        },
        "colab": {
          "base_uri": "https://localhost:8080/",
          "height": 493
        },
        "id": "4fd599198f9ef0e8",
        "outputId": "23dab164-534a-409b-c62c-e1d144fdcc30"
      },
      "cell_type": "code",
      "source": [
        "from sklearn.metrics import ConfusionMatrixDisplay\n",
        "cm = confusion_matrix(y_validation, y_pred)\n",
        "disp = ConfusionMatrixDisplay(confusion_matrix=cm, display_labels= [0,1])\n",
        "disp.plot(cmap='Blues')\n",
        "plt.title(\"Confusion Matrix\")\n",
        "plt.show()"
      ],
      "id": "4fd599198f9ef0e8",
      "outputs": [
        {
          "output_type": "display_data",
          "data": {
            "text/plain": [
              "<Figure size 640x480 with 2 Axes>"
            ],
            "image/png": "[encoded data removed]"
          },
          "metadata": {}
        }
      ],
      "execution_count": 11
    },
    {
      "metadata": {
        "id": "eaf63b2e26a0a217"
      },
      "cell_type": "markdown",
      "source": [
        "11.\tAplica el modelo Red Neuronal en el conjunto de entrenamiento. Valida el modelo con las predicciones del conjunto de validación y su matriz de confusión. Ajusta los parámetros del modelo hasta obtener tu mejor modelo, entre ellos el número de neuronas y capas ocultas."
      ],
      "id": "eaf63b2e26a0a217"
    },
    {
      "metadata": {
        "ExecuteTime": {
          "end_time": "2025-07-16T21:22:09.177925Z",
          "start_time": "2025-07-16T21:19:22.203817Z"
        },
        "colab": {
          "base_uri": "https://localhost:8080/"
        },
        "id": "a3349d0229e9d8c1",
        "outputId": "24ed5ff4-1b3b-4c9f-96c7-f7e1aa224def"
      },
      "cell_type": "code",
      "source": [
        "from sklearn.neural_network import MLPClassifier\n",
        "from sklearn.model_selection import GridSearchCV\n",
        "\n",
        "param_grid = {\n",
        "    'hidden_layer_sizes': [(100,100), (150,150), (200,200)],\n",
        "    'activation': ['relu'],\n",
        "    'solver': ['adam'],\n",
        "    'alpha': [1],\n",
        "    'learning_rate': ['constant']\n",
        "}\n",
        "\n",
        "mlp = MLPClassifier(max_iter=1000)\n",
        "grid2 = GridSearchCV(mlp, param_grid, cv=5, scoring='accuracy', verbose=1)\n",
        "grid2.fit(X_train, y_train)\n",
        "print(\"Best Params:\", grid2.best_params_)\n",
        "print(\"Best Score:\", grid2.best_score_)"
      ],
      "id": "a3349d0229e9d8c1",
      "outputs": [
        {
          "output_type": "stream",
          "name": "stdout",
          "text": [
            "Fitting 5 folds for each of 3 candidates, totalling 15 fits\n",
            "Best Params: {'activation': 'relu', 'alpha': 1, 'hidden_layer_sizes': (200, 200), 'learning_rate': 'constant', 'solver': 'adam'}\n",
            "Best Score: 0.8218518518518518\n"
          ]
        }
      ],
      "execution_count": 12
    },
    {
      "metadata": {
        "ExecuteTime": {
          "end_time": "2025-07-16T22:15:52.987230Z",
          "start_time": "2025-07-16T22:15:40.992548Z"
        },
        "colab": {
          "base_uri": "https://localhost:8080/"
        },
        "id": "7666af7d4560acca",
        "outputId": "6076ac3b-b55c-40d1-a3af-070a92f3f176"
      },
      "cell_type": "code",
      "source": [
        "mlp2 = MLPClassifier(hidden_layer_sizes=(100,100),\n",
        "                    activation='relu',\n",
        "                    alpha=1,\n",
        "                    learning_rate='constant',\n",
        "                    random_state=42,\n",
        "                    solver= 'adam')\n",
        "mlp2.fit(X_train, y_train)\n",
        "y_pred2 = mlp2.predict(X_validation)\n",
        "print(mlp2.score(X_validation, y_validation))\n",
        "confusion_matrix(y_validation, y_pred2)"
      ],
      "id": "7666af7d4560acca",
      "outputs": [
        {
          "output_type": "stream",
          "name": "stdout",
          "text": [
            "0.8155555555555556\n"
          ]
        },
        {
          "output_type": "execute_result",
          "data": {
            "text/plain": [
              "array([[898, 160],\n",
              "       [172, 570]])"
            ]
          },
          "metadata": {},
          "execution_count": 13
        }
      ],
      "execution_count": 13
    },
    {
      "metadata": {
        "ExecuteTime": {
          "end_time": "2025-07-16T22:22:37.934806Z",
          "start_time": "2025-07-16T22:22:37.834054Z"
        },
        "colab": {
          "base_uri": "https://localhost:8080/",
          "height": 493
        },
        "id": "5635be31d5c8cfc3",
        "outputId": "3a909234-7e8e-4e1c-8894-d4bcc165029a"
      },
      "cell_type": "code",
      "source": [
        "cm = confusion_matrix(y_validation, y_pred2)\n",
        "disp = ConfusionMatrixDisplay(confusion_matrix=cm, display_labels= [0,1])\n",
        "disp.plot(cmap='Blues')\n",
        "plt.title(\"Confusion Matrix\")\n",
        "plt.show()"
      ],
      "id": "5635be31d5c8cfc3",
      "outputs": [
        {
          "output_type": "display_data",
          "data": {
            "text/plain": [
              "<Figure size 640x480 with 2 Axes>"
            ],
            "image/png": "[encoded data removed]"
          },
          "metadata": {}
        }
      ],
      "execution_count": 15
    },
    {
      "metadata": {
        "id": "443a47025b26c61e"
      },
      "cell_type": "markdown",
      "source": [
        "12.\tSelecciona el mejor modelo encontrado en los incisos anteriores y utiliza el conjunto de prueba para obtener el desempeño final del modelo y su matriz de confusión."
      ],
      "id": "443a47025b26c61e"
    },
    {
      "metadata": {
        "ExecuteTime": {
          "end_time": "2025-07-16T22:20:41.052135Z",
          "start_time": "2025-07-16T22:20:33.861739Z"
        },
        "colab": {
          "base_uri": "https://localhost:8080/"
        },
        "id": "9d7b8194b66f54f0",
        "outputId": "f6649075-bf5d-47da-e5b8-29bc13b70043"
      },
      "cell_type": "code",
      "source": [
        "mlp2.fit(X_test, y_test)\n",
        "mlp2.score(X_test, y_test)"
      ],
      "id": "9d7b8194b66f54f0",
      "outputs": [
        {
          "output_type": "execute_result",
          "data": {
            "text/plain": [
              "0.8655555555555555"
            ]
          },
          "metadata": {},
          "execution_count": 16
        }
      ],
      "execution_count": 16
    },
    {
      "metadata": {
        "ExecuteTime": {
          "end_time": "2025-07-16T22:22:15.072350Z",
          "start_time": "2025-07-16T22:22:15.019277Z"
        },
        "colab": {
          "base_uri": "https://localhost:8080/"
        },
        "id": "f813867e4d791cc2",
        "outputId": "900b0b36-5fd8-4f06-f2c4-b6229e62908e"
      },
      "cell_type": "code",
      "source": [
        "y_pred3 = mlp2.predict(X_test)\n",
        "confusion_matrix(y_pred3, y_test)"
      ],
      "id": "f813867e4d791cc2",
      "outputs": [
        {
          "output_type": "execute_result",
          "data": {
            "text/plain": [
              "array([[926, 163],\n",
              "       [ 79, 632]])"
            ]
          },
          "metadata": {},
          "execution_count": 17
        }
      ],
      "execution_count": 17
    },
    {
      "metadata": {
        "ExecuteTime": {
          "end_time": "2025-07-16T22:22:48.932998Z",
          "start_time": "2025-07-16T22:22:48.742718Z"
        },
        "colab": {
          "base_uri": "https://localhost:8080/",
          "height": 493
        },
        "id": "4bc74e1ac8cb878f",
        "outputId": "0dfe691a-f6a8-4349-b009-0e0d156daa94"
      },
      "cell_type": "code",
      "source": [
        "cm = confusion_matrix(y_test, y_pred3)\n",
        "disp = ConfusionMatrixDisplay(confusion_matrix=cm, display_labels= [0,1])\n",
        "disp.plot(cmap='Blues')\n",
        "plt.title(\"Confusion Matrix\")\n",
        "plt.show()"
      ],
      "id": "4bc74e1ac8cb878f",
      "outputs": [
        {
          "output_type": "display_data",
          "data": {
            "text/plain": [
              "<Figure size 640x480 with 2 Axes>"
            ],
            "image/png": "[encoded data removed]"
          },
          "metadata": {}
        }
      ],
      "execution_count": 18
    },
    {
      "cell_type": "markdown",
      "source": [
        "6.a Justifica el uso de LabelEncoder o OneHotEcoder:\n",
        "\n",
        "  Utilice OrdinalEncoder() para no generar mayor cantidad de columnas y aumentar la densidad del dataframe."
      ],
      "metadata": {
        "id": "GVfMU965eYOo"
      },
      "id": "GVfMU965eYOo"
    },
    {
      "cell_type": "markdown",
      "source": [
        "13.a Incluye tus conclusiones de este problema en particular, ¿qué puedes decir acerca\n",
        "del uso de técnicas de inteligencia artificial en problemas de mercadotecnia?\n",
        "\n",
        "  Se eligió el método MLPClassifier() (Red Neuronal) por una exactitud mayor que el modelo de regresión logistica. Si bien, aún es un resultado aún con mucha oportunidad de mejora, probablemente invirtiendo más tiempo en la selección de variables y en la transformación más exhaustiva de las mismas para un modelo más exacto. De igual manera, no hay mucha diferencia en el rendimiento del modelo de LogisticRegression(), si se toma en cuenta el tiempo de ejecución del código, al ser un modelo más simple, podría optarse por utilizar un modelo de regresión logistica.\n",
        "\n",
        "  En este caso para situaciones de marketing tal vez sea más práctico utilizar modelos de regresión logistica por tiempo ejecución y mayor facilidad para ajuste del modelo en situaciones no tan complejas y dejar las técnicas de redes neuronales para situaciones de mayor complejidad.\n"
      ],
      "metadata": {
        "id": "s54s2VzJejgT"
      },
      "id": "s54s2VzJejgT"
    },
    {
      "cell_type": "code",
      "source": [],
      "metadata": {
        "id": "fDDidaYceuq0"
      },
      "id": "fDDidaYceuq0",
      "execution_count": null,
      "outputs": []
    }
  ],
  "metadata": {
    "kernelspec": {
      "display_name": "Python 3",
      "language": "python",
      "name": "python3"
    },
    "language_info": {
      "codemirror_mode": {
        "name": "ipython",
        "version": 2
      },
      "file_extension": ".py",
      "mimetype": "text/x-python",
      "name": "python",
      "nbconvert_exporter": "python",
      "pygments_lexer": "ipython2",
      "version": "2.7.6"
    },
    "colab": {
      "provenance": [],
      "include_colab_link": true
    }
  },
  "nbformat": 4,
  "nbformat_minor": 5
}